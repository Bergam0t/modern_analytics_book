{
  "cells": [
    {
      "cell_type": "markdown",
      "metadata": {},
      "source": [
        "# (Coming Soon) Code Chunks\n",
        "\n",
        "While being able to write documents with all of these built-in features from the previous chapter is all well and good, one of the biggest draws of Quarto is being able to put all of your code to process and visualise your data inside the document, removing the need for any copying-and-pasting.\n",
        "\n",
        ":::{.callout-tip}\n",
        "As your Quarto documents get bigger and more complex, it can be a good idea to move some of the code out into separate files to make it neater and easier to debug - but for now, we'll just assume that we're putting the end-to-end code inside the documents.\n",
        ":::\n",
        "\n",
        "## Your first code block\n",
        "\n",
        "Code blocks take the following format:\n",
        "\n",
        "```{{language}}\n",
        "your_code\n",
        "```\n",
        "\n",
        "For example, a Python block might look like this:\n",
        "\n",
        "```{{python}}\n",
        "import pandas as pd\n",
        "\n",
        "address = 'https://raw.githubusercontent.com/MichaelAllen1966/' + \\\n",
        "            '1804_python_healthcare/master/titanic/data/train.csv'\n",
        "\n",
        "data = pd.read_csv(address)\n",
        "\n",
        "data.head()\n",
        "```\n",
        "\n",
        "And the output would be this.\n"
      ],
      "id": "5796fc43"
    },
    {
      "cell_type": "code",
      "metadata": {},
      "source": [
        "import pandas as pd\n",
        "\n",
        "address = 'https://raw.githubusercontent.com/MichaelAllen1966/' + \\\n",
        "            '1804_python_healthcare/master/titanic/data/train.csv'\n",
        "\n",
        "data = pd.read_csv(address)\n",
        "\n",
        "data.head()"
      ],
      "id": "7c750dd0",
      "execution_count": null,
      "outputs": []
    }
  ],
  "metadata": {
    "kernelspec": {
      "name": "python3",
      "language": "python",
      "display_name": "Python 3 (ipykernel)"
    }
  },
  "nbformat": 4,
  "nbformat_minor": 5
}